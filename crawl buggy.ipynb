{
 "metadata": {
  "language_info": {
   "codemirror_mode": {
    "name": "ipython",
    "version": 3
   },
   "file_extension": ".py",
   "mimetype": "text/x-python",
   "name": "python",
   "nbconvert_exporter": "python",
   "pygments_lexer": "ipython3",
   "version": "3.8.2-final"
  },
  "orig_nbformat": 2,
  "kernelspec": {
   "name": "Python 3.8.2 64-bit ('Site Crawler': pipenv)",
   "display_name": "Python 3.8.2 64-bit ('Site Crawler': pipenv)",
   "metadata": {
    "interpreter": {
     "hash": "0ee02901d78a0b5d90a9d936cdb636b4ac7807022fd5560181a86e1ae7c42868"
    }
   }
  }
 },
 "nbformat": 4,
 "nbformat_minor": 2,
 "cells": [
  {
   "cell_type": "code",
   "execution_count": 1,
   "metadata": {
    "tags": []
   },
   "outputs": [
    {
     "output_type": "stream",
     "name": "stdout",
     "text": "CCNA 200-301 Course \n"
    }
   ],
   "source": [
    "import requests, re, os\n",
    "from bs4 import BeautifulSoup\n",
    "from pprint import pprint\n",
    "from collections import OrderedDict\n",
    "\n",
    "url = \"https://networklessons.com/cisco/ccna-200-301\"\n",
    "req = requests.get(url)\n",
    "soup = BeautifulSoup(req.text, \"html.parser\")\n",
    "print(soup.title.text.split('|')[0])\n",
    "\n",
    "spans = soup.find_all(\"ul\", {\"class\":\"bellows-nav\"})"
   ]
  },
  {
   "cell_type": "code",
   "execution_count": 2,
   "metadata": {
    "tags": []
   },
   "outputs": [],
   "source": [
    "title_list = []\n",
    "links_list = OrderedDict()\n",
    "\n",
    "for span in spans:\n",
    "    for title in span.find_all(\"span\", {\"class\":\"bellows-target-title\"}):\n",
    "        text = title.text.replace(\":\", \" -\")\n",
    "        title_list.append(text)\n",
    "\n",
    "    for item2 in span.find_all(\"a\", {\"class\":\"bellows-target\"},href=True):\n",
    "        links_list[item2.text] = item2['href']\n",
    "\n",
    "# pprint(title_list)\n",
    "# pprint(links_list)"
   ]
  },
  {
   "cell_type": "code",
   "execution_count": 3,
   "metadata": {
    "tags": []
   },
   "outputs": [],
   "source": [
    "unit_index = []\n",
    "\n",
    "for i, item in enumerate(title_list):\n",
    "    if \"Unit \" in item:\n",
    "        unit_index.append(i)\n",
    "\n",
    "for i in unit_index:\n",
    "    pass\n",
    "    # print(i, title_list[i])\n",
    "\n",
    "links_index = []\n",
    "links_index_to_links_list = []\n",
    "for link in links_list:\n",
    "    # print(link)\n",
    "    links_index.append([index for index, num in enumerate(title_list) if link in num][0])\n",
    "    \n",
    "\n",
    "# print(links_index)\n",
    "\n",
    "# print(len(title_list))\n",
    "# print(len(links_list))"
   ]
  },
  {
   "cell_type": "code",
   "execution_count": 4,
   "metadata": {
    "tags": []
   },
   "outputs": [
    {
     "output_type": "stream",
     "name": "stdout",
     "text": "Unit 1 - Introduction  ----  How to study for CCNA  ----  https://networklessons.com/cisco/ccna-200-301/how-to-study-for-cisco-ccna-rs\nUnit 1 - Introduction  ----  How to study Networking  ----  https://networklessons.com/cisco/ccna-200-301/how-to-study-cisco-and-networking\nUnit 1 - Introduction  ----  How to build a CCNA Lab  ----  https://networklessons.com/cisco/ccna-200-301/recommended-lab-equipment-for-cisco-ccna\nUnit 1 - Introduction  ----  What is Networking  ----  https://networklessons.com/cisco/ccna-200-301/what-is-networking\nUnit 2 - Network Fundamentals  ----  Introduction to the OSI Model  ----  https://networklessons.com/cisco/ccna-200-301/introduction-to-the-osi-model\nUnit 2 - Network Fundamentals  ----  Introduction to IPv4 (Internet Protocol)  ----  https://networklessons.com/cisco/ccna-200-301/internet-protocol\nUnit 2 - Network Fundamentals  ----  IPv4 Packet Header  ----  https://networklessons.com/cisco/ccna-200-301/ipv4-packet-header\nUnit 2 - Network Fundamentals  ----  Address Resolution Protocol (ARP)  ----  https://networklessons.com/cisco/ccna-200-301/arp-address-resolution-protocol-explained\nUnit 2 - Network Fundamentals  ----  Introduction to TCP and UDP  ----  https://networklessons.com/cisco/ccna-200-301/introduction-to-tcp-and-udp\nUnit 2 - Network Fundamentals  ----  TCP Header  ----  https://networklessons.com/cisco/ccna-200-301/tcp-header\nUnit 2 - Network Fundamentals  ----  TCP Window Size Scaling  ----  https://networklessons.com/cisco/ccna-200-301/tcp-window-size-scaling\nUnit 2 - Network Fundamentals  ----  Introduction to ICMP  ----  https://networklessons.com/cisco/ccna-200-301/icmp-internet-control-message-protocol\nUnit 2 - Network Fundamentals  ----  Introduction to DNS  ----  https://networklessons.com/cisco/ccna-200-301/introduction-to-dns\nUnit 2 - Network Fundamentals  ----  Introduction to Cisco Command Line Interface (CLI)  ----  https://networklessons.com/cisco/ccna-200-301/introduction-cisco-ios-cli-command-line-interface\nUnit 2 - Network Fundamentals  ----  User mode and Privileged mode  ----  https://networklessons.com/cisco/ccna-200-301/user-mode-and-privileged-mode-security\nUnit 3 - Network Access  ----  Introduction to LANs  ----  https://networklessons.com/cisco/ccna-200-301/introduction-to-lans\nUnit 3 - Network Access  ----  Introduction to Ethernet  ----  https://networklessons.com/cisco/ccna-200-301/introduction-to-ethernet\nUnit 3 - Network Access  ----  Collision Domains  ----  https://networklessons.com/cisco/ccna-200-301/collision-domains\nUnit 3 - Network Access  ----  Broadcast Domains  ----  https://networklessons.com/cisco/ccna-200-301/broadcast-domain\nUnit 3 - Network Access  ----  How a switch learns MAC addresses  ----  https://networklessons.com/cisco/ccna-200-301/how-does-a-switch-learn-mac-addresses\nUnit 3 - Network Access  ----  Power over Ethernet (PoE)  ----  https://networklessons.com/cisco/ccna-200-301/power-over-ethernet-poe\nUnit 3 - Network Access  ----  Network Topologies  ----  https://networklessons.com/cisco/ccna-200-301/network-topologies\nUnit 3 - Network Access  ----  Troubleshooting Interfaces  ----  https://networklessons.com/cisco/ccna-200-301/troubleshooting-interfaces\nUnit 3 - Network Access  ----  Introduction to VLANs  ----  https://networklessons.com/cisco/ccna-200-301/introduction-to-vlans\nUnit 3 - Network Access  ----  How to configure VLANs  ----  https://networklessons.com/cisco/ccna-200-301/how-to-configure-vlans-on-cisco-catalyst-switch\nUnit 3 - Network Access  ----  VLAN Trunking Protocol (VTP)  ----  http://networklessons.com/cisco/ccna-200-301/introduction-to-vtp-vlan-trunking-protocol\nUnit 3 - Network Access  ----  Introduction to 802.1Q  ----  https://networklessons.com/cisco/ccna-200-301/802-1q-encapsulation-explained\nUnit 3 - Network Access  ----  How to configure a Trunk  ----  https://networklessons.com/cisco/ccna-200-301/how-to-configure-trunk-on-cisco-catalyst-switch\nUnit 3 - Network Access  ----  Dynamic Trunking Protocol (DTP)  ----  https://networklessons.com/cisco/ccna-200-301/cisco-dtp-dynamic-trunking-protocol-negotiation\nUnit 3 - Network Access  ----  802.1Q Native VLAN  ----  https://networklessons.com/cisco/ccna-200-301/802-1q-native-vlan-cisco-ios-switch\nUnit 3 - Network Access  ----  Introduction to Voice VLAN  ----  https://networklessons.com/cisco/ccna-200-301/voice-vlan\nUnit 3 - Network Access  ----  Troubleshooting VLANs and Trunks  ----  https://networklessons.com/cisco/ccna-200-301/troubleshooting-vlans-trunks\nUnit 3 - Network Access  ----  Etherchannels  ----  https://networklessons.com/cisco/ccna-200-301/etherchannel-cisco-ios-catalyst-switch\nUnit 3 - Network Access  ----  L3 Etherchannel  ----  https://networklessons.com/cisco/ccna-200-301/layer-3-etherchannel-cisco-ios-switch\nUnit 3 - Network Access  ----  Introduction to Spanning-Tree  ----  https://networklessons.com/cisco/ccna-200-301/introduction-to-spanning-tree\nUnit 3 - Network Access  ----  Per VLAN Spanning-Tree  ----  https://networklessons.com/cisco/ccna-200-301/per-vlan-spanning-tree-pvst\nUnit 3 - Network Access  ----  Spanning-Tree Port States  ----  https://networklessons.com/cisco/ccna-200-301/spanning-tree-port-states\nUnit 3 - Network Access  ----  Spanning-Tree Cost Calculation  ----  https://networklessons.com/cisco/ccna-200-301/spanning-tree-cost-calculation\nUnit 3 - Network Access  ----  Spanning-Tree Portfast  ----  https://networklessons.com/cisco/ccna-200-301/cisco-portfast-configuration\nUnit 3 - Network Access  ----  Rapid PVST  ----  https://networklessons.com/cisco/ccna-200-301/rapid-spanning-tree-rstp\nUnit 3 - Network Access  ----  Rapid PVST Configuration  ----  https://networklessons.com/cisco/ccna-200-301/rapid-spanning-tree-configuration\nUnit 3 - Network Access  ----  Spanning-Tree BPDUGuard  ----  https://networklessons.com/cisco/ccna-200-301/spanning-tree-bpduguard\nUnit 3 - Network Access  ----  Introduction to Wireless Networks  ----  https://networklessons.com/cisco/ccna-200-301/introduction-to-wireless-networks\nUnit 3 - Network Access  ----  Introduction to Wireless LANs  ----  https://networklessons.com/cisco/ccna-200-301/introduction-wireless-lan\nUnit 3 - Network Access  ----  Wireless LAN 802.11 Service Sets  ----  https://networklessons.com/cisco/ccna-200-301/wireless-lan-802-11-service-sets\nUnit 3 - Network Access  ----  Introduction to Wireless Security  ----  https://networklessons.com/cisco/ccna-200-301/introduction-to-wireless-security\nUnit 3 - Network Access  ----  Wireless Authentication Methods  ----  https://networklessons.com/cisco/ccna-200-301/wireless-authentication-methods\nUnit 3 - Network Access  ----  Wireless Encryption and Integrity  ----  https://networklessons.com/cisco/ccna-200-301/wireless-encryption-and-integrity\nUnit 3 - Network Access  ----  Wi-Fi Protected Access (WPA)  ----  https://networklessons.com/cisco/ccna-200-301/wi-fi-protected-access-wpa\nUnit 3 - Network Access  ----  Cisco Wireless Network Architectures  ----  https://networklessons.com/cisco/ccna-200-301/cisco-wireless-network-architectures\nUnit 3 - Network Access  ----  Cisco WLC Deployment Models  ----  https://networklessons.com/cisco/ccna-200-301/cisco-wlc-deployment-models\nUnit 3 - Network Access  ----  Cisco Wireless AP Modes  ----  https://networklessons.com/cisco/ccna-200-301/cisco-wireless-ap-modes\nUnit 3 - Network Access  ----  Cisco Wireless LAN Controller (WLC) Basic Configuration  ----  https://networklessons.com/cisco/ccna-200-301/cisco-wireless-lan-controller-wlc-basic-configuration\nUnit 3 - Network Access  ----  Cisco WLC WPA2 PSK Authentication  ----  https://networklessons.com/cisco/ccna-200-301/cisco-wlc-wpa2-psk-authentication\nUnit 4 - IP Connectivity  ----  Introduction to Routers and Routing  ----  https://networklessons.com/cisco/ccna-200-301/introduction-to-routers-and-routing\nUnit 4 - IP Connectivity  ----  Cisco IOS Router Basic Configuration  ----  https://networklessons.com/cisco/ccna-200-301/cisco-ios-router-basic-configuration\nUnit 4 - IP Connectivity  ----  Introduction to Wide Area Networks (WAN)  ----  https://networklessons.com/cisco/ccna-200-301/introduction-to-wans-wide-area-network\nUnit 4 - IP Connectivity  ----  Metro Ethernet  ----  https://networklessons.com/cisco/ccna-200-301/introduction-to-metro-ethernet\nUnit 4 - IP Connectivity  ----  Introduction to Subnetting  ----  https://networklessons.com/cisco/ccna-200-301/what-is-subnetting\nUnit 4 - IP Connectivity  ----  Basics of Binary Numbers  ----  https://networklessons.com/cisco/ccna-200-301/basics-of-binary-numbers\nUnit 4 - IP Connectivity  ----  Subnetting in Binary  ----  https://networklessons.com/cisco/ccna-200-301/subnetting-in-binary\nUnit 4 - IP Connectivity  ----  Subnetting in Decimal (Fast Method)  ----  https://networklessons.com/cisco/ccna-200-301/subnetting-in-decimal-fast-way\nUnit 4 - IP Connectivity  ----  Classless InterDomain Routing (CIDR)  ----  https://networklessons.com/cisco/ccna-200-301/classless-interdomain-routing-cidr\nUnit 4 - IP Connectivity  ----  Variable Length Subnet Mask (VLSM)  ----  https://networklessons.com/cisco/ccna-200-301/variable-length-subnet-mask-vlsm\nUnit 4 - IP Connectivity  ----  Route Summarization  ----  https://networklessons.com/cisco/ccna-200-301/route-summarization\nUnit 4 - IP Connectivity  ----  Hexadecimal to Binary and Decimal Conversion  ----  https://networklessons.com/cisco/ccna-200-301/hexadecimal-decimal-binary\nUnit 4 - IP Connectivity  ----  Create a Subnetting Cheat Sheet  ----  https://networklessons.com/cisco/ccna-200-301/create-a-subnetting-cheat-sheet\nUnit 4 - IP Connectivity  ----  Default Gateway  ----  https://networklessons.com/cisco/ccna-200-301/what-is-a-default-gateway\nUnit 4 - IP Connectivity  ----  Static Routing  ----  https://networklessons.com/cisco/ccna-200-301/how-to-configure-static-route-on-cisco-ios-router\nUnit 4 - IP Connectivity  ----  Floating Static Route  ----  https://networklessons.com/cisco/ccna-200-301/floating-static-route\nUnit 4 - IP Connectivity  ----  IP Routing Explained  ----  https://networklessons.com/cisco/ccna-200-301/ip-routing-explained\nUnit 4 - IP Connectivity  ----  Router on a Stick  ----  https://networklessons.com/cisco/ccna-200-301/how-to-configure-router-on-a-stick\nUnit 4 - IP Connectivity  ----  InterVLAN Routing  ----  https://networklessons.com/cisco/ccna-200-301/intervlan-routing\nUnit 4 - IP Connectivity  ----  Traceroute  ----  https://networklessons.com/cisco/ccna-200-301/traceroute\nUnit 4 - IP Connectivity  ----  Administrative Distance  ----  https://networklessons.com/cisco/ccna-200-301/introduction-to-administrative-distance\nUnit 4 - IP Connectivity  ----  Introduction to Route Summarization  ----  https://networklessons.com/cisco/ccna-200-301/introduction-route-summarization\nUnit 4 - IP Connectivity  ----  Introduction to OSPF  ----  https://networklessons.com/cisco/ccna-200-301/introduction-to-ospf\nUnit 4 - IP Connectivity  ----  OSPF Configuration  ----  https://networklessons.com/cisco/ccna-200-301/basic-ospf-configuration\nUnit 4 - IP Connectivity  ----  OSPF Packets and Neighbor Discovery  ----  https://networklessons.com/cisco/ccna-200-301/ospf-packets-and-neighbor-discovery\nUnit 4 - IP Connectivity  ----  OSPF Reference Bandwidth  ----  https://networklessons.com/cisco/ccna-200-301/ospf-reference-bandwidth\nUnit 4 - IP Connectivity  ----  OSPF Router ID  ----  https://networklessons.com/cisco/ccna-200-301/ospf-router-id\nUnit 4 - IP Connectivity  ----  OSPF DR/BDR Election  ----  https://networklessons.com/cisco/ccna-200-301/ospf-drbdr-election-explained\nUnit 4 - IP Connectivity  ----  OSPF Passive Interface  ----  https://networklessons.com/cisco/ccna-200-301/ospf-passive-interface\nUnit 4 - IP Connectivity  ----  OSPF Hello and Dead Interval  ----  https://networklessons.com/cisco/ccna-200-301/ospf-hello-and-dead-interval\nUnit 4 - IP Connectivity  ----  OSPF Multi-Area  ----  https://networklessons.com/cisco/ccna-200-301/ospf-multi-area-configuration\nUnit 4 - IP Connectivity  ----  OSPF Default Route  ----  https://networklessons.com/cisco/ccna-200-301/how-to-configure-ospf-default-route\nUnit 4 - IP Connectivity  ----  Troubleshoot OSPF Neighbor Adjacency  ----  https://networklessons.com/cisco/ccna-200-301/troubleshooting-ospf-neighbor-adjacency\nUnit 4 - IP Connectivity  ----  Introduction to Gateway Redundancy  ----  https://networklessons.com/cisco/ccna-200-301/introduction-gateway-redundancy\nUnit 5 - IP Services  ----  Introduction to DHCP  ----  https://networklessons.com/cisco/ccna-200-301/introduction-to-dhcp\nUnit 5 - IP Services  ----  DHCP Client  ----  https://networklessons.com/cisco/ccna-200-301/dhcp-client-on-cisco-ios\nUnit 5 - IP Services  ----  DHCP Server Configuration  ----  https://networklessons.com/cisco/ccna-200-301/how-to-configure-dhcp-server-on-cisco-ios\nUnit 5 - IP Services  ----  DHCP Relay Agent  ----  https://networklessons.com/cisco/ccna-200-301/cisco-ios-dhcp-relay-agent\nUnit 5 - IP Services  ----  Introduction to SNMP  ----  https://networklessons.com/cisco/ccna-200-301/introduction-to-snmp\nUnit 5 - IP Services  ----  SNMPv2  ----  https://networklessons.com/cisco/ccna-200-301/how-to-configure-snmpv2-on-cisco-ios-router\nUnit 5 - IP Services  ----  SNMPv3  ----  https://networklessons.com/cisco/ccna-200-301/how-to-configure-snmpv3-on-cisco-ios-router\nUnit 5 - IP Services  ----  Introduction to NAT and PAT  ----  https://networklessons.com/cisco/ccna-200-301/introduction-to-nat-and-pat\nUnit 5 - IP Services  ----  NAT Static  ----  https://networklessons.com/cisco/ccna-200-301/how-to-configure-static-nat-on-cisco-ios-router\nUnit 5 - IP Services  ----  NAT Dynamic  ----  https://networklessons.com/cisco/ccna-200-301/how-to-configure-dynamic-nat-on-cisco-ios-router\nUnit 5 - IP Services  ----  Port Address Translation (PAT)  ----  https://networklessons.com/cisco/ccna-200-301/how-to-configure-pat-on-cisco-ios-router\nUnit 5 - IP Services  ----  Troubleshooting NAT/PAT  ----  https://networklessons.com/cisco/ccna-200-301/troubleshooting-nat-pat\nUnit 5 - IP Services  ----  Introduction to Quality of Service (QoS)  ----  https://networklessons.com/cisco/ccna-200-301/introduction-qos-quality-service\nUnit 5 - IP Services  ----  IP Precedence and DSCP Values  ----  https://networklessons.com/cisco/ccna-200-301/ip-precedence-dscp-values\nUnit 5 - IP Services  ----  Classification  ----  https://networklessons.com/cisco/ccna-200-301/qos-classification-cisco-ios-router\nUnit 5 - IP Services  ----  Marking  ----  https://networklessons.com/cisco/ccna-200-301/qos-marking-cisco-ios-router\nUnit 5 - IP Services  ----  QoS Trust Boundary  ----  https://networklessons.com/cisco/ccna-200-301/how-to-configure-qos-trust-boundary-on-cisco-switches\nUnit 5 - IP Services  ----  Shaping  ----  https://networklessons.com/cisco/ccna-200-301/qos-traffic-shaping-explained\nUnit 5 - IP Services  ----  Policing  ----  https://networklessons.com/cisco/ccna-200-301/qos-traffic-policing-explained\nUnit 5 - IP Services  ----  Weighted Random Early Detection (WRED)  ----  https://networklessons.com/cisco/ccna-200-301/wred-weighted-random-early-detection\nUnit 6 - IPv6  ----  Introduction to IPv6  ----  https://networklessons.com/cisco/ccna-200-301/introduction-to-ipv6\nUnit 6 - IPv6  ----  Shortening IPv6 Addresses  ----  https://networklessons.com/cisco/ccna-200-301/shortening-ipv6-addresses\nUnit 6 - IPv6  ----  How to find IPv6 Prefix  ----  https://networklessons.com/cisco/ccna-200-301/how-to-find-ipv6-prefix\nUnit 6 - IPv6  ----  IPv6 Address Types  ----  https://networklessons.com/cisco/ccna-200-301/ipv6-address-types\nUnit 6 - IPv6  ----  IPv6 Address Assignment Example  ----  https://networklessons.com/cisco/ccna-200-301/ipv6-address-assignment-example\nUnit 6 - IPv6  ----  IPv6 EUI-64  ----  https://networklessons.com/cisco/ccna-200-301/ipv6-eui-64-explained\nUnit 6 - IPv6  ----  IPv6 Summarization  ----  https://networklessons.com/cisco/ccna-200-301/ipv6-summarization-example\nUnit 6 - IPv6  ----  IPv6 Solicited Node Multicast Address  ----  https://networklessons.com/cisco/ccna-200-301/ipv6-solicited-node-multicast-address\nUnit 6 - IPv6  ----  IPv6 Neighbor Discovery Protocol (NDP)  ----  https://networklessons.com/cisco/ccna-200-301/ipv6-neighbor-discovery-protocol-on-cisco-router\nUnit 6 - IPv6  ----  IPv6 Stateless Autoconfiguration  ----  https://networklessons.com/cisco/ccna-200-301/stateless-autoconfiguration-for-ipv6\nUnit 6 - IPv6  ----  IPv6 Static Route  ----  https://networklessons.com/cisco/ccna-200-301/how-to-configure-ipv6-static-route\nUnit 6 - IPv6  ----  DHCP Server IPv6 Configuration  ----  https://networklessons.com/cisco/ccna-200-301/cisco-dhcpv6-server-configuration\nUnit 7 - Security Fundamentals  ----  Introduction to Access-Lists  ----  https://networklessons.com/cisco/ccna-200-301/introduction-to-access-lists-on-cisco-ios-router\nUnit 7 - Security Fundamentals  ----  Wildcard Bits  ----  https://networklessons.com/cisco/ccna-200-301/wildcard-bits-explained\nUnit 7 - Security Fundamentals  ----  Standard Access-List  ----  https://networklessons.com/cisco/ccna-200-301/standard-access-list-example-on-cisco-router\nUnit 7 - Security Fundamentals  ----  Extended Access-List  ----  https://networklessons.com/cisco/ccna-200-301/extended-access-list-example-on-cisco-router\nUnit 7 - Security Fundamentals  ----  Time-based Access-List  ----  https://networklessons.com/cisco/ccna-200-301/cisco-ios-time-based-access-list\nUnit 7 - Security Fundamentals  ----  Port-Security  ----  https://networklessons.com/cisco/ccna-200-301/how-to-configure-port-security-on-cisco-switch\nUnit 7 - Security Fundamentals  ----  AAA and 802.1X  ----  https://networklessons.com/cisco/ccna-200-301/aaa-802-1x-authentication\nUnit 7 - Security Fundamentals  ----  AAA User Authentication  ----  https://networklessons.com/cisco/ccna-200-301/aaa-configuration-cisco-switch\nUnit 7 - Security Fundamentals  ----  AAA Admin Authentication  ----  https://networklessons.com/cisco/ccna-200-301/aaa-authentication-on-cisco-ios\nUnit 7 - Security Fundamentals  ----  DHCP Snooping  ----  https://networklessons.com/cisco/ccna-200-301/dhcp-snooping\nUnit 7 - Security Fundamentals  ----  ARP Poisoning  ----  https://networklessons.com/cisco/ccna-200-301/arp-poisoning\nUnit 7 - Security Fundamentals  ----  Dynamic ARP Inspection (DAI)  ----  https://networklessons.com/cisco/ccna-200-301/dai-dynamic-arp-inspection\nUnit 7 - Security Fundamentals  ----  Introduction to Firewalls  ----  https://networklessons.com/cisco/ccna-200-301/introduction-to-firewalls\nUnit 7 - Security Fundamentals  ----  Introduction to VPNs  ----  https://networklessons.com/cisco/ccna-200-301/introduction-to-vpns\nUnit 8 - Network Management  ----  Introduction to CDP  ----  https://networklessons.com/cisco/ccna-200-301/introduction-to-cdp-cisco-discovery-protocol\nUnit 8 - Network Management  ----  Introduction to LLDP  ----  https://networklessons.com/cisco/ccna-200-301/link-layer-discovery-protocol-lldp\nUnit 8 - Network Management  ----  Telnet Server and Client  ----  https://networklessons.com/cisco/ccna-200-301/cisco-ios-telnet-server-client\nUnit 8 - Network Management  ----  SSH Server and Client  ----  https://networklessons.com/cisco/ccna-200-301/configure-ssh-cisco-ios\nUnit 8 - Network Management  ----  Introduction to NTP  ----  https://networklessons.com/cisco/ccna-200-301/cisco-network-time-protocol-ntp\nUnit 8 - Network Management  ----  Introduction to Syslog  ----  https://networklessons.com/cisco/ccna-200-301/cisco-ios-syslog-messages\nUnit 8 - Network Management  ----  Configuration Register  ----  https://networklessons.com/cisco/ccna-200-301/configuration-register-cisco-ios\nUnit 8 - Network Management  ----  Password Recovery on Cisco IOS  ----  https://networklessons.com/cisco/ccna-200-301/cisco-ios-router-password-recovery\nUnit 8 - Network Management  ----  Cisco IOS Filesystem  ----  https://networklessons.com/cisco/ccna-200-301/cisco-ios-filesystem\nUnit 8 - Network Management  ----  Upgrade Cisco IOS Image  ----  https://networklessons.com/cisco/ccna-200-301/upgrade-cisco-ios-image\nUnit 9 - Network Design  ----  Cisco Campus Network Design  ----  https://networklessons.com/cisco/ccna-200-301/cisco-campus-network-design-basics\nUnit 9 - Network Design  ----  Spine and Leaf Architecture  ----  https://networklessons.com/cisco/ccna-200-301/spine-and-leaf-architecture\nUnit 10 - Automation and Programmability  ----  Introduction to Software Defined Networking (SDN)  ----  https://networklessons.com/cisco/ccna-200-301/introduction-to-sdn-software-defined-networking\nUnit 10 - Automation and Programmability  ----  Introduction to SDN OpenDaylight  ----  https://networklessons.com/cisco/ccna-200-301/introduction-to-sdn-opendaylight\nUnit 10 - Automation and Programmability  ----  Device Programmability  ----  https://networklessons.com/cisco/ccna-200-301/device-programmability\nUnit 10 - Automation and Programmability  ----  REST API  ----  https://networklessons.com/cisco/ccna-200-301/introduction-to-rest-api\nUnit 10 - Automation and Programmability  ----  Data Models and Structures  ----  https://networklessons.com/cisco/ccna-200-301/data-models-and-structures\nUnit 10 - Automation and Programmability  ----  Configuration Management Tools and Version Control Systems  ----  https://networklessons.com/cisco/ccna-200-301/configuration-management-tools-and-version-control-systems\nUnit 10 - Automation and Programmability  ----  Introduction to SD-Access  ----  https://networklessons.com/cisco/ccna-200-301/introduction-to-sd-access\nUnit 11 - Cloud Computing  ----  Virtual Machines and Containers  ----  https://networklessons.com/cisco/ccna-200-301/compute-virtualization-containers-and-virtual-machines\nUnit 11 - Cloud Computing  ----  Introduction to Cloud Computing  ----  https://networklessons.com/cisco/ccna-200-301/introduction-to-cloud-computing\nUnit 11 - Cloud Computing  ----  Cloud Connectivity  ----  https://networklessons.com/cisco/ccna-200-301/cloud-connectivity\n"
    }
   ],
   "source": [
    "# count = 1\n",
    "for i, unit in enumerate(unit_index):\n",
    "    for link in links_index:\n",
    "        try:\n",
    "            # print(link, unit, unit_index[i + 1])\n",
    "            if (unit < link) and (link < unit_index[i + 1]):\n",
    "                print(title_list[unit], \" ---- \", title_list[link], \" ---- \", links_list[title_list[link]])\n",
    "                # print(count)\n",
    "                # count+=1\n",
    "        except (IndexError, ValueError):\n",
    "            break"
   ]
  },
  {
   "cell_type": "code",
   "execution_count": 5,
   "metadata": {},
   "outputs": [],
   "source": [
    "def make_dir(path):\n",
    "    download_path = os.path.join(os.getcwd(), \"Markdown Output\\\\\", path)\n",
    "    os.makedirs(download_path, exist_ok=True)"
   ]
  },
  {
   "cell_type": "code",
   "execution_count": 6,
   "metadata": {
    "tags": []
   },
   "outputs": [
    {
     "output_type": "stream",
     "name": "stdout",
     "text": "d:\\Documents\\CCNA Irfaan\\Site Crawler\\Markdown Output\\CCNA 200-301 Course\\Unit 1 - Introduction\nd:\\Documents\\CCNA Irfaan\\Site Crawler\\Markdown Output\\CCNA 200-301 Course\\Unit 2 - Network Fundamentals\nd:\\Documents\\CCNA Irfaan\\Site Crawler\\Markdown Output\\CCNA 200-301 Course\\Unit 3 - Network Access\nd:\\Documents\\CCNA Irfaan\\Site Crawler\\Markdown Output\\CCNA 200-301 Course\\Unit 4 - IP Connectivity\nd:\\Documents\\CCNA Irfaan\\Site Crawler\\Markdown Output\\CCNA 200-301 Course\\Unit 5 - IP Services\nd:\\Documents\\CCNA Irfaan\\Site Crawler\\Markdown Output\\CCNA 200-301 Course\\Unit 6 - IPv6\nd:\\Documents\\CCNA Irfaan\\Site Crawler\\Markdown Output\\CCNA 200-301 Course\\Unit 7 - Security Fundamentals\nd:\\Documents\\CCNA Irfaan\\Site Crawler\\Markdown Output\\CCNA 200-301 Course\\Unit 8 - Network Management\nd:\\Documents\\CCNA Irfaan\\Site Crawler\\Markdown Output\\CCNA 200-301 Course\\Unit 9 - Network Design\nd:\\Documents\\CCNA Irfaan\\Site Crawler\\Markdown Output\\CCNA 200-301 Course\\Unit 10 - Automation and Programmability\nd:\\Documents\\CCNA Irfaan\\Site Crawler\\Markdown Output\\CCNA 200-301 Course\\Unit 11 - Cloud Computing\nd:\\Documents\\CCNA Irfaan\\Site Crawler\\Markdown Output\\CCNA 200-301 Course\\Unit 12 - Practice Exam\n"
    }
   ],
   "source": [
    "# Make Output Directories\n",
    "\n",
    "course = soup.title.text.split('|')[0].strip()\n",
    "\n",
    "for i in unit_index:\n",
    "    path = course + \"\\\\\" + title_list[i]\n",
    "    # print(path)\n",
    "    make_dir(path)\n",
    "    download_path = os.path.join(os.getcwd(), \"Markdown Output\\\\\", path)\n",
    "    print(download_path)"
   ]
  },
  {
   "cell_type": "code",
   "execution_count": 35,
   "metadata": {},
   "outputs": [],
   "source": [
    "import pyautogui, os, requests, re\n",
    "from msedge.selenium_tools import Edge, EdgeOptions, webdriver\n",
    "\n",
    "options = EdgeOptions()\n",
    "options.use_chromium = True\n",
    "unpacked_extension_path = os.path.join(os.getcwd(), \"markdown-clipper\")\n",
    "options.add_argument(\"--load-extension={}\".format(unpacked_extension_path))\n",
    "download_path = os.path.join(os.getcwd(), \"Markdown Output\\\\\")\n",
    "prefs = {\"download.default_directory\": download_path, \"profile.default_content_settings.popups\": 0, \"directory_upgrade\": True}\n",
    "options.add_experimental_option(\"prefs\", prefs)\n",
    "options.add_experimental_option(\"detach\", True)\n",
    "driver = Edge(options=options)\n",
    "\n",
    "url = \"https://networklessons.com/cisco/ccna-200-301\"\n",
    "driver.get(url)"
   ]
  },
  {
   "cell_type": "code",
   "execution_count": 43,
   "metadata": {
    "tags": []
   },
   "outputs": [
    {
     "output_type": "error",
     "ename": "ElementClickInterceptedException",
     "evalue": "Message: element click intercepted: Element <div class=\"x_close\">...</div> is not clickable at point (856, 855). Other element would receive the click: <div id=\"om-mvhsujbebu4nqhlzcsgs\" class=\"glendale-campaign Campaign CampaignType--popup Campaign--css\" style=\"border: 0px; border-radius: 0px; float: none; letter-spacing: normal; outline: none; text-decoration: none; text-indent: 0px; text-shadow: none; text-transform: none; visibility: visible; line-height: 1; font-family: Arial, sans-serif; box-shadow: none; -webkit-font-smoothing: antialiased; appearance: none; position: fixed; z-index: 888888888; top: 0px; right: 0px; bottom: 0px; left: 0px; zoom: 1; width: 100%; height: 100%; margin: 0px; padding: 0px; overflow: auto; background: rgba(0, 0, 0, 0.7); display: block;\">...</div>\n  (Session info: MicrosoftEdge=85.0.564.51)\n",
     "traceback": [
      "\u001b[1;31m---------------------------------------------------------------------------\u001b[0m",
      "\u001b[1;31mElementClickInterceptedException\u001b[0m          Traceback (most recent call last)",
      "\u001b[1;32m<ipython-input-43-20a69e361cbf>\u001b[0m in \u001b[0;36m<module>\u001b[1;34m\u001b[0m\n\u001b[0;32m      3\u001b[0m \u001b[1;33m\u001b[0m\u001b[0m\n\u001b[0;32m      4\u001b[0m \u001b[1;32mif\u001b[0m \u001b[0magree\u001b[0m\u001b[1;33m:\u001b[0m\u001b[1;33m\u001b[0m\u001b[1;33m\u001b[0m\u001b[0m\n\u001b[1;32m----> 5\u001b[1;33m     \u001b[0magree\u001b[0m\u001b[1;33m[\u001b[0m\u001b[1;36m0\u001b[0m\u001b[1;33m]\u001b[0m\u001b[1;33m.\u001b[0m\u001b[0mclick\u001b[0m\u001b[1;33m(\u001b[0m\u001b[1;33m)\u001b[0m\u001b[1;33m\u001b[0m\u001b[1;33m\u001b[0m\u001b[0m\n\u001b[0m\u001b[0;32m      6\u001b[0m \u001b[1;33m\u001b[0m\u001b[0m\n\u001b[0;32m      7\u001b[0m \u001b[1;32mif\u001b[0m \u001b[0mjoin\u001b[0m\u001b[1;33m:\u001b[0m\u001b[1;33m\u001b[0m\u001b[1;33m\u001b[0m\u001b[0m\n",
      "\u001b[1;32mD:\\Documents\\CCNA Irfaan\\Site Crawler\\.venv\\lib\\site-packages\\selenium\\webdriver\\remote\\webelement.py\u001b[0m in \u001b[0;36mclick\u001b[1;34m(self)\u001b[0m\n\u001b[0;32m     78\u001b[0m     \u001b[1;32mdef\u001b[0m \u001b[0mclick\u001b[0m\u001b[1;33m(\u001b[0m\u001b[0mself\u001b[0m\u001b[1;33m)\u001b[0m\u001b[1;33m:\u001b[0m\u001b[1;33m\u001b[0m\u001b[1;33m\u001b[0m\u001b[0m\n\u001b[0;32m     79\u001b[0m         \u001b[1;34m\"\"\"Clicks the element.\"\"\"\u001b[0m\u001b[1;33m\u001b[0m\u001b[1;33m\u001b[0m\u001b[0m\n\u001b[1;32m---> 80\u001b[1;33m         \u001b[0mself\u001b[0m\u001b[1;33m.\u001b[0m\u001b[0m_execute\u001b[0m\u001b[1;33m(\u001b[0m\u001b[0mCommand\u001b[0m\u001b[1;33m.\u001b[0m\u001b[0mCLICK_ELEMENT\u001b[0m\u001b[1;33m)\u001b[0m\u001b[1;33m\u001b[0m\u001b[1;33m\u001b[0m\u001b[0m\n\u001b[0m\u001b[0;32m     81\u001b[0m \u001b[1;33m\u001b[0m\u001b[0m\n\u001b[0;32m     82\u001b[0m     \u001b[1;32mdef\u001b[0m \u001b[0msubmit\u001b[0m\u001b[1;33m(\u001b[0m\u001b[0mself\u001b[0m\u001b[1;33m)\u001b[0m\u001b[1;33m:\u001b[0m\u001b[1;33m\u001b[0m\u001b[1;33m\u001b[0m\u001b[0m\n",
      "\u001b[1;32mD:\\Documents\\CCNA Irfaan\\Site Crawler\\.venv\\lib\\site-packages\\selenium\\webdriver\\remote\\webelement.py\u001b[0m in \u001b[0;36m_execute\u001b[1;34m(self, command, params)\u001b[0m\n\u001b[0;32m    631\u001b[0m             \u001b[0mparams\u001b[0m \u001b[1;33m=\u001b[0m \u001b[1;33m{\u001b[0m\u001b[1;33m}\u001b[0m\u001b[1;33m\u001b[0m\u001b[1;33m\u001b[0m\u001b[0m\n\u001b[0;32m    632\u001b[0m         \u001b[0mparams\u001b[0m\u001b[1;33m[\u001b[0m\u001b[1;34m'id'\u001b[0m\u001b[1;33m]\u001b[0m \u001b[1;33m=\u001b[0m \u001b[0mself\u001b[0m\u001b[1;33m.\u001b[0m\u001b[0m_id\u001b[0m\u001b[1;33m\u001b[0m\u001b[1;33m\u001b[0m\u001b[0m\n\u001b[1;32m--> 633\u001b[1;33m         \u001b[1;32mreturn\u001b[0m \u001b[0mself\u001b[0m\u001b[1;33m.\u001b[0m\u001b[0m_parent\u001b[0m\u001b[1;33m.\u001b[0m\u001b[0mexecute\u001b[0m\u001b[1;33m(\u001b[0m\u001b[0mcommand\u001b[0m\u001b[1;33m,\u001b[0m \u001b[0mparams\u001b[0m\u001b[1;33m)\u001b[0m\u001b[1;33m\u001b[0m\u001b[1;33m\u001b[0m\u001b[0m\n\u001b[0m\u001b[0;32m    634\u001b[0m \u001b[1;33m\u001b[0m\u001b[0m\n\u001b[0;32m    635\u001b[0m     \u001b[1;32mdef\u001b[0m \u001b[0mfind_element\u001b[0m\u001b[1;33m(\u001b[0m\u001b[0mself\u001b[0m\u001b[1;33m,\u001b[0m \u001b[0mby\u001b[0m\u001b[1;33m=\u001b[0m\u001b[0mBy\u001b[0m\u001b[1;33m.\u001b[0m\u001b[0mID\u001b[0m\u001b[1;33m,\u001b[0m \u001b[0mvalue\u001b[0m\u001b[1;33m=\u001b[0m\u001b[1;32mNone\u001b[0m\u001b[1;33m)\u001b[0m\u001b[1;33m:\u001b[0m\u001b[1;33m\u001b[0m\u001b[1;33m\u001b[0m\u001b[0m\n",
      "\u001b[1;32mD:\\Documents\\CCNA Irfaan\\Site Crawler\\.venv\\lib\\site-packages\\selenium\\webdriver\\remote\\webdriver.py\u001b[0m in \u001b[0;36mexecute\u001b[1;34m(self, driver_command, params)\u001b[0m\n\u001b[0;32m    319\u001b[0m         \u001b[0mresponse\u001b[0m \u001b[1;33m=\u001b[0m \u001b[0mself\u001b[0m\u001b[1;33m.\u001b[0m\u001b[0mcommand_executor\u001b[0m\u001b[1;33m.\u001b[0m\u001b[0mexecute\u001b[0m\u001b[1;33m(\u001b[0m\u001b[0mdriver_command\u001b[0m\u001b[1;33m,\u001b[0m \u001b[0mparams\u001b[0m\u001b[1;33m)\u001b[0m\u001b[1;33m\u001b[0m\u001b[1;33m\u001b[0m\u001b[0m\n\u001b[0;32m    320\u001b[0m         \u001b[1;32mif\u001b[0m \u001b[0mresponse\u001b[0m\u001b[1;33m:\u001b[0m\u001b[1;33m\u001b[0m\u001b[1;33m\u001b[0m\u001b[0m\n\u001b[1;32m--> 321\u001b[1;33m             \u001b[0mself\u001b[0m\u001b[1;33m.\u001b[0m\u001b[0merror_handler\u001b[0m\u001b[1;33m.\u001b[0m\u001b[0mcheck_response\u001b[0m\u001b[1;33m(\u001b[0m\u001b[0mresponse\u001b[0m\u001b[1;33m)\u001b[0m\u001b[1;33m\u001b[0m\u001b[1;33m\u001b[0m\u001b[0m\n\u001b[0m\u001b[0;32m    322\u001b[0m             response['value'] = self._unwrap_value(\n\u001b[0;32m    323\u001b[0m                 response.get('value', None))\n",
      "\u001b[1;32mD:\\Documents\\CCNA Irfaan\\Site Crawler\\.venv\\lib\\site-packages\\selenium\\webdriver\\remote\\errorhandler.py\u001b[0m in \u001b[0;36mcheck_response\u001b[1;34m(self, response)\u001b[0m\n\u001b[0;32m    240\u001b[0m                 \u001b[0malert_text\u001b[0m \u001b[1;33m=\u001b[0m \u001b[0mvalue\u001b[0m\u001b[1;33m[\u001b[0m\u001b[1;34m'alert'\u001b[0m\u001b[1;33m]\u001b[0m\u001b[1;33m.\u001b[0m\u001b[0mget\u001b[0m\u001b[1;33m(\u001b[0m\u001b[1;34m'text'\u001b[0m\u001b[1;33m)\u001b[0m\u001b[1;33m\u001b[0m\u001b[1;33m\u001b[0m\u001b[0m\n\u001b[0;32m    241\u001b[0m             \u001b[1;32mraise\u001b[0m \u001b[0mexception_class\u001b[0m\u001b[1;33m(\u001b[0m\u001b[0mmessage\u001b[0m\u001b[1;33m,\u001b[0m \u001b[0mscreen\u001b[0m\u001b[1;33m,\u001b[0m \u001b[0mstacktrace\u001b[0m\u001b[1;33m,\u001b[0m \u001b[0malert_text\u001b[0m\u001b[1;33m)\u001b[0m\u001b[1;33m\u001b[0m\u001b[1;33m\u001b[0m\u001b[0m\n\u001b[1;32m--> 242\u001b[1;33m         \u001b[1;32mraise\u001b[0m \u001b[0mexception_class\u001b[0m\u001b[1;33m(\u001b[0m\u001b[0mmessage\u001b[0m\u001b[1;33m,\u001b[0m \u001b[0mscreen\u001b[0m\u001b[1;33m,\u001b[0m \u001b[0mstacktrace\u001b[0m\u001b[1;33m)\u001b[0m\u001b[1;33m\u001b[0m\u001b[1;33m\u001b[0m\u001b[0m\n\u001b[0m\u001b[0;32m    243\u001b[0m \u001b[1;33m\u001b[0m\u001b[0m\n\u001b[0;32m    244\u001b[0m     \u001b[1;32mdef\u001b[0m \u001b[0m_value_or_default\u001b[0m\u001b[1;33m(\u001b[0m\u001b[0mself\u001b[0m\u001b[1;33m,\u001b[0m \u001b[0mobj\u001b[0m\u001b[1;33m,\u001b[0m \u001b[0mkey\u001b[0m\u001b[1;33m,\u001b[0m \u001b[0mdefault\u001b[0m\u001b[1;33m)\u001b[0m\u001b[1;33m:\u001b[0m\u001b[1;33m\u001b[0m\u001b[1;33m\u001b[0m\u001b[0m\n",
      "\u001b[1;31mElementClickInterceptedException\u001b[0m: Message: element click intercepted: Element <div class=\"x_close\">...</div> is not clickable at point (856, 855). Other element would receive the click: <div id=\"om-mvhsujbebu4nqhlzcsgs\" class=\"glendale-campaign Campaign CampaignType--popup Campaign--css\" style=\"border: 0px; border-radius: 0px; float: none; letter-spacing: normal; outline: none; text-decoration: none; text-indent: 0px; text-shadow: none; text-transform: none; visibility: visible; line-height: 1; font-family: Arial, sans-serif; box-shadow: none; -webkit-font-smoothing: antialiased; appearance: none; position: fixed; z-index: 888888888; top: 0px; right: 0px; bottom: 0px; left: 0px; zoom: 1; width: 100%; height: 100%; margin: 0px; padding: 0px; overflow: auto; background: rgba(0, 0, 0, 0.7); display: block;\">...</div>\n  (Session info: MicrosoftEdge=85.0.564.51)\n"
     ]
    }
   ],
   "source": [
    "agree = driver.find_elements_by_xpath('//*[@id=\"catapult-cookie-bar\"]/div/div')\n",
    "join = driver.find_elements_by_xpath('//*[@id=\"om-mvhsujbebu4nqhlzcsgs-optin\"]/div/button')\n",
    "\n",
    "if agree:\n",
    "    agree[0].click()\n",
    "\n",
    "if join:\n",
    "    join[0].click()"
   ]
  },
  {
   "cell_type": "code",
   "execution_count": null,
   "metadata": {},
   "outputs": [],
   "source": []
  }
 ]
}