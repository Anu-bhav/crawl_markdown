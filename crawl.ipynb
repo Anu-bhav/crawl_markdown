{
  "cells": [
    {
      "cell_type": "code",
      "metadata": {},
      "source": [
        "#!/usr/bin/env python\n",
        "# coding: utf-8\n",
        "\n",
        "# In[1]:\n",
        "\n",
        "\n",
        "import requests, re, os\n",
        "from bs4 import BeautifulSoup\n",
        "from pprint import pprint\n",
        "from collections import OrderedDict\n",
        "\n",
        "url = \"https://networklessons.com/cisco/ccna-200-301\"\n",
        "req = requests.get(url)\n",
        "soup = BeautifulSoup(req.text, \"html.parser\")\n",
        "print(soup.title.text.split('|')[0])\n",
        "\n",
        "spans = soup.find_all(\"ul\", {\"class\":\"bellows-nav\"})\n",
        "\n",
        "\n",
        "# In[2]:\n",
        "\n",
        "\n",
        "title_list = []\n",
        "links_list = OrderedDict()\n",
        "\n",
        "for span in spans:\n",
        "    for title in span.find_all(\"span\", {\"class\":\"bellows-target-title\"}):\n",
        "        text = title.text.replace(\":\", \" -\")\n",
        "        title_list.append(text)\n",
        "\n",
        "    for item2 in span.find_all(\"a\", {\"class\":\"bellows-target\"},href=True):\n",
        "        links_list[item2.text] = item2['href']\n",
        "\n",
        "# pprint(title_list)\n",
        "# pprint(links_list)\n",
        "\n",
        "\n",
        "# In[3]:\n",
        "\n",
        "\n",
        "unit_index = []\n",
        "\n",
        "for i, item in enumerate(title_list):\n",
        "    if \"Unit \" in item:\n",
        "        unit_index.append(i)\n",
        "\n",
        "for i in unit_index:\n",
        "    pass\n",
        "    # print(i, title_list[i])\n",
        "\n",
        "links_index = []\n",
        "links_index_to_links_list = []\n",
        "for link in links_list:\n",
        "    # print(link)\n",
        "    links_index.append([index for index, num in enumerate(title_list) if link in num][0])\n",
        "    \n",
        "\n",
        "# print(links_index)\n",
        "\n",
        "# print(len(title_list))\n",
        "# print(len(links_list))\n",
        "\n",
        "\n",
        "# In[4]:\n",
        "\n",
        "\n",
        "# count = 1\n",
        "for i, unit in enumerate(unit_index):\n",
        "    for link in links_index:\n",
        "        try:\n",
        "            # print(link, unit, unit_index[i + 1])\n",
        "            if (unit < link) and (link < unit_index[i + 1]):\n",
        "                print(title_list[unit], \" ---- \", title_list[link], \" ---- \", links_list[title_list[link]])\n",
        "                # print(count)\n",
        "                # count+=1\n",
        "        except (IndexError, ValueError):\n",
        "            break\n",
        "\n",
        "\n",
        "# In[5]:\n",
        "\n",
        "\n",
        "def make_dir(path):\n",
        "    download_path = os.path.join(os.getcwd(), \"Markdown Output\\\\\", path)\n",
        "    os.makedirs(download_path, exist_ok=True)\n",
        "\n",
        "\n",
        "# In[6]:\n",
        "\n",
        "\n",
        "# Make Output Directories\n",
        "\n",
        "course = soup.title.text.split('|')[0].strip()\n",
        "\n",
        "for i in unit_index:\n",
        "    path = course + \"\\\\\" + title_list[i]\n",
        "    # print(path)\n",
        "    make_dir(path)\n",
        "    download_path = os.path.join(os.getcwd(), \"Markdown Output\\\\\", path)\n",
        "    print(download_path)\n",
        "\n",
        "\n",
        "# In[35]:\n",
        "\n",
        "\n",
        "import pyautogui, os, requests, re\n",
        "from msedge.selenium_tools import Edge, EdgeOptions, webdriver\n",
        "\n",
        "options = EdgeOptions()\n",
        "options.use_chromium = True\n",
        "unpacked_extension_path = os.path.join(os.getcwd(), \"markdown-clipper\")\n",
        "options.add_argument(\"--load-extension={}\".format(unpacked_extension_path))\n",
        "download_path = os.path.join(os.getcwd(), \"Markdown Output\\\\\")\n",
        "prefs = {\"download.default_directory\": download_path, \"profile.default_content_settings.popups\": 0, \"directory_upgrade\": True}\n",
        "options.add_experimental_option(\"prefs\", prefs)\n",
        "options.add_experimental_option(\"detach\", True)\n",
        "driver = Edge(options=options)\n",
        "\n",
        "url = \"https://networklessons.com/cisco/ccna-200-301\"\n",
        "driver.get(url)\n",
        "\n",
        "\n",
        "# In[43]:\n",
        "\n",
        "\n",
        "agree = driver.find_elements_by_xpath('//*[@id=\"catapult-cookie-bar\"]/div/div')\n",
        "join = driver.find_elements_by_xpath('//*[@id=\"om-mvhsujbebu4nqhlzcsgs-optin\"]/div/button')\n",
        "\n",
        "if agree:\n",
        "    agree[0].click()\n",
        "\n",
        "if join:\n",
        "    join[0].click()\n",
        "\n",
        "\n",
        "# In[ ]:\n",
        "\n",
        "\n",
        "\n",
        "\n"
      ],
      "outputs": [],
      "execution_count": null
    },
    {
      "cell_type": "code",
      "execution_count": 4,
      "metadata": {},
      "outputs": [],
      "source": [
        "import pyautogui, os, requests, re, random\n",
        "from selenium import webdriver\n",
        "from selenium.webdriver import Chrome\n",
        "from time import sleep, time\n",
        "from itertools import cycle\n",
        "from bs4 import BeautifulSoup\n",
        "from http_request_randomizer.requests.proxy.requestProxy import RequestProxy\n",
        "from pprint import pprint\n",
        "from collections import OrderedDict\n",
        "import random"
      ]
    },
    {
      "cell_type": "code",
      "execution_count": 5,
      "metadata": {},
      "outputs": [],
      "source": [
        "url = \"https://networklessons.com/cisco/ccna-200-301\""
      ]
    },
    {
      "cell_type": "code",
      "execution_count": 6,
      "metadata": {
        "tags": []
      },
      "outputs": [
        {
          "output_type": "stream",
          "name": "stderr",
          "text": "2020-09-25 03:42:23,307 root   DEBUG    === Initialized Proxy Parsers ===\n2020-09-25 03:42:23,309 root   DEBUG    \t FreeProxy parser of 'http://free-proxy-list.net' with required bandwidth: '150' KBs\n2020-09-25 03:42:23,309 root   DEBUG    \t PremProxy parser of 'https://premproxy.com/list/' with required bandwidth: '150' KBs\n2020-09-25 03:42:23,310 root   DEBUG    =================================\n2020-09-25 03:42:24,985 root   DEBUG    Added 300 proxies from FreeProxy\n2020-09-25 03:42:25,907 http_request_randomizer.requests.parsers.PremProxyParser DEBUG    Pages: {'', '04.htm', '08.htm', '03.htm', '05.htm', '06.htm', '07.htm', '02.htm'}\n2020-09-25 03:42:26,819 http_request_randomizer.requests.parsers.js.UnPacker INFO     JS UnPacker init path: https://premproxy.com/js/7594e.js\n2020-09-25 03:42:27,706 http_request_randomizer.requests.parsers.js.UnPacker DEBUG    portmap: {'ra66f': '8080', 'r7ce4': '51671', 'r67a8': '55443', 'r3b38': '8087', 'r84be': '53281', 'rd4d1': '38736', 'r9dc2': '999', 'r7afc': '54697', 'r3cc6': '23500', 'r4655': '34930', 'r9226': '30000', 'rc9d0': '59010', 're41c': '60550', 'r817b': '80', 'r1212': '3128', 'r8209': '37699', 'r4707': '47362', 'r6389': '39611', 'rcfc8': '57797', 'rdf21': '32378', 'r7245': '59152', 're822': '65205', 'r5c4b': '41878', 'rcd0e': '41344', 'r6a43': '39150', 'r052b': '3129', 'rb968': '8999', 'r52e8': '4216', 'r7b3b': '41589', 'r77d6': '59190', 'r7392': '36681', 'r083e': '8090', 'rb7ef': '44612', 're0ee': '38525', 'r6a4a': '47096', 'r8b20': '30012', 're8ec': '30039', 'r512a': '30071', 'r1bb0': '1081', 'r125d': '3838', 'rd5cd': '50824', 'r7dc7': '38827', 'r4fc6': '6868', 'rc08f': '51489', 'r2644': '61279', 'rc0c7': '8383', 'r1d66': '54621', 'r2d65': '26394', 'rda25': '6666', 'r301f': '55583', 'rb6e8': '41258', 'r82e4': '8686', 'r65f5': '1080', 'r8175': '47247', 'r8b5c': '32052', 'r1417': '57853', 'rb97b': '33741', 'r4798': '8081', 'r475b': '30716', 'rda7d': '3019', 'rf413': '1234', 'r0ac2': '9090', 'r14e3': '9999', 'r81f4': '60792', 'r1f15': '56145', 're66e': '48458', 'r6dc0': '30677', 'r228e': '31398', 'r62a8': '48515', 'r29e9': '55472', 'r28f1': '42580', 'r084b': '42928', 'rc736': '45578', 'r710e': '9991', 'rf0bf': '4645', 'r2938': '9001', 'r47d3': '55357', 'r7e75': '47744', 'r4ec7': '46340', 'r9044': '34808', 'rea33': '34927', 're148': '45730', 'r254d': '41731', 'r6efb': '52342', 'rbb3a': '50330', 'r050a': '56848', 're58e': '43205', 'r146d': '42658', 'rec50': '53073', 'r1c7d': '35102', 'rb7a4': '1256', 'rc869': '35659', 'r342f': '36739', 'rf5bf': '38510', 'rada4': '35953', 'r99f9': '443', 'r008e': '54299', 'r8eb6': '8213', 'r49ad': '43147', 'rdb5f': '1976', 'rd651': '37470', 're3d8': '1000', 'refcf': '525', 'r79e6': '55126', 'r28c9': '48678', 'recbe': '38351', 'r0c9e': '41632', 'r83c8': '47504'}\n2020-09-25 03:42:35,010 root   DEBUG    Added 375 proxies from PremProxy\n2020-09-25 03:42:35,011 root   DEBUG    Total proxies = 675\n2020-09-25 03:42:35,012 root   DEBUG    Filtered proxies = 675\n'212.83.174.222:3838'\n'190.92.6.185:8080'\n"
        }
      ],
      "source": [
        "from http_request_randomizer.requests.proxy.requestProxy import RequestProxy\n",
        "\n",
        "# start = time()\n",
        "req_proxy = RequestProxy()\n",
        "# print(\"Initialization took: {0} sec\".format((time() - start)))\n",
        "# print(\"Size: {0}\".format(len(req_proxy.get_proxy_list())))\n",
        "# print(\"ALL = {0} \".format(list(map(lambda x: x.get_address(), req_proxy.get_proxy_list()))))\n",
        "proxies = req_proxy.get_proxy_list()\n",
        "\n",
        "from pprint import pprint\n",
        "pprint(proxies[0].get_address())\n",
        "\n",
        "import random\n",
        "proxy = random.choice(proxies).get_address()\n",
        "pprint(proxy)"
      ]
    },
    {
      "cell_type": "code",
      "execution_count": 15,
      "metadata": {
        "tags": []
      },
      "outputs": [],
      "source": [
        "from itertools import cycle\n",
        "\n",
        "proxy_cycle = cycle(proxies)\n"
      ]
    },
    {
      "cell_type": "code",
      "execution_count": 21,
      "metadata": {
        "tags": []
      },
      "outputs": [
        {
          "output_type": "stream",
          "name": "stdout",
          "text": "185.23.131.240:8080\n"
        }
      ],
      "source": [
        "proxy = next(proxy_cycle).get_address()\n",
        "print(proxy)"
      ]
    },
    {
      "cell_type": "code",
      "execution_count": 37,
      "metadata": {},
      "outputs": [],
      "source": [
        "def init_proxy():\n",
        "    req_proxy = RequestProxy()\n",
        "    proxies = req_proxy.get_proxy_list()\n",
        "    proxy_cycle = cycle(proxies)\n",
        "    return proxy_cycle"
      ]
    },
    {
      "cell_type": "code",
      "execution_count": 38,
      "metadata": {},
      "outputs": [],
      "source": [
        "def use_proxy():\n",
        "    proxies = init_proxy()\n",
        "    # proxy = next(proxy_cycle).get_address()\n",
        "    return proxy"
      ]
    },
    {
      "cell_type": "code",
      "execution_count": 48,
      "metadata": {
        "tags": []
      },
      "outputs": [
        {
          "output_type": "stream",
          "name": "stdout",
          "text": "69.63.73.171:53281\n"
        }
      ],
      "source": [
        "def use_1():\n",
        "    proxy = next(proxy_cycle).get_address()\n",
        "    print(proxy)\n",
        "\n",
        "use_1()"
      ]
    },
    {
      "cell_type": "code",
      "execution_count": 49,
      "metadata": {
        "tags": []
      },
      "outputs": [
        {
          "output_type": "stream",
          "name": "stdout",
          "text": "3.8.132.246:8080\n"
        }
      ],
      "source": [
        "def use_2():\n",
        "    proxy = next(proxy_cycle).get_address()\n",
        "    print(proxy)\n",
        "\n",
        "use_2()"
      ]
    },
    {
      "cell_type": "code",
      "execution_count": 59,
      "metadata": {
        "tags": []
      },
      "outputs": [
        {
          "output_type": "stream",
          "name": "stdout",
          "text": "43.248.24.158:51166\n"
        }
      ],
      "source": [
        "proxy = next(proxy_cycle).get_address()\n",
        "print(proxy)"
      ]
    },
    {
      "cell_type": "code",
      "execution_count": null,
      "metadata": {},
      "outputs": [],
      "source": [
        "options = webdriver.ChromeOptions()\n",
        "unpacked_extension_path = os.path.join(os.getcwd(), \"markdown-clipper\")\n",
        "options.add_argument(\"--load-extension={}\".format(unpacked_extension_path))\n",
        "# options.add_argument(\"--incognito\")\n",
        "proxy = random.choice(proxies).get_address()\n",
        "options.add_experimental_option(\"excludeSwitches\", [\"enable-automation\"])\n",
        "options.add_argument(\"--proxy-server=http://{}\".format(proxy))\n",
        "download_path = os.path.join(os.getcwd(), \"Markdown Output\\\\\", path)\n",
        "prefs = {\"download.default_directory\": download_path, \"profile.default_content_settings.popups\": 0, \"directory_upgrade\": True}\n",
        "options.add_experimental_option(\"prefs\", prefs)\n",
        "options.add_experimental_option(\"detach\", True)\n",
        "driver = Chrome(options=options)\n",
        "driver.get(url)"
      ]
    },
    {
      "cell_type": "code",
      "execution_count": 7,
      "metadata": {},
      "outputs": [],
      "source": [
        "agree = driver.find_elements_by_xpath('//*[@id=\"catapult-cookie-bar\"]/div/div')\n",
        "# //*[@id=\"om-dszmjlrr62oycr2tcw9j-optin\"]/div/button\n",
        "# /html/body/div[9]/div/div/button\n",
        "join = driver.find_elements_by_xpath('/html/body/div[9]/div/div/button')\n",
        "\n",
        "if agree:\n",
        "    try:\n",
        "        agree[0].click()\n",
        "    except Exception:\n",
        "        pass\n",
        "\n",
        "if join:\n",
        "    try:\n",
        "        join[0].click()\n",
        "    except Exception:\n",
        "        pass"
      ]
    }
  ],
  "metadata": {
    "anaconda-cloud": {},
    "kernelspec": {
      "name": "Python 3.8.2 64-bit ('Site Crawler': pipenv)",
      "display_name": "Python 3.8.2 64-bit ('Site Crawler': pipenv)",
      "metadata": {
        "interpreter": {
          "hash": "0ee02901d78a0b5d90a9d936cdb636b4ac7807022fd5560181a86e1ae7c42868"
        }
      }
    },
    "language_info": {
      "codemirror_mode": {
        "name": "ipython",
        "version": 3
      },
      "file_extension": ".py",
      "mimetype": "text/x-python",
      "name": "python",
      "nbconvert_exporter": "python",
      "pygments_lexer": "ipython3",
      "version": "3.8.2-final"
    }
  },
  "nbformat": 4,
  "nbformat_minor": 4
}