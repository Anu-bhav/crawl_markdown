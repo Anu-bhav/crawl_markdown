{
  "cells": [
    {
      "cell_type": "code",
      "metadata": {},
      "source": [
        "#!/usr/bin/env python\n",
        "# coding: utf-8\n",
        "\n",
        "# In[1]:\n",
        "\n",
        "\n",
        "import requests, re, os\n",
        "from bs4 import BeautifulSoup\n",
        "from pprint import pprint\n",
        "from collections import OrderedDict\n",
        "\n",
        "url = \"https://networklessons.com/cisco/ccna-200-301\"\n",
        "req = requests.get(url)\n",
        "soup = BeautifulSoup(req.text, \"html.parser\")\n",
        "print(soup.title.text.split('|')[0])\n",
        "\n",
        "spans = soup.find_all(\"ul\", {\"class\":\"bellows-nav\"})\n",
        "\n",
        "\n",
        "# In[2]:\n",
        "\n",
        "\n",
        "title_list = []\n",
        "links_list = OrderedDict()\n",
        "\n",
        "for span in spans:\n",
        "    for title in span.find_all(\"span\", {\"class\":\"bellows-target-title\"}):\n",
        "        text = title.text.replace(\":\", \" -\")\n",
        "        title_list.append(text)\n",
        "\n",
        "    for item2 in span.find_all(\"a\", {\"class\":\"bellows-target\"},href=True):\n",
        "        links_list[item2.text] = item2['href']\n",
        "\n",
        "# pprint(title_list)\n",
        "# pprint(links_list)\n",
        "\n",
        "\n",
        "# In[3]:\n",
        "\n",
        "\n",
        "unit_index = []\n",
        "\n",
        "for i, item in enumerate(title_list):\n",
        "    if \"Unit \" in item:\n",
        "        unit_index.append(i)\n",
        "\n",
        "for i in unit_index:\n",
        "    pass\n",
        "    # print(i, title_list[i])\n",
        "\n",
        "links_index = []\n",
        "links_index_to_links_list = []\n",
        "for link in links_list:\n",
        "    # print(link)\n",
        "    links_index.append([index for index, num in enumerate(title_list) if link in num][0])\n",
        "    \n",
        "\n",
        "# print(links_index)\n",
        "\n",
        "# print(len(title_list))\n",
        "# print(len(links_list))\n",
        "\n",
        "\n",
        "# In[4]:\n",
        "\n",
        "\n",
        "# count = 1\n",
        "for i, unit in enumerate(unit_index):\n",
        "    for link in links_index:\n",
        "        try:\n",
        "            # print(link, unit, unit_index[i + 1])\n",
        "            if (unit < link) and (link < unit_index[i + 1]):\n",
        "                print(title_list[unit], \" ---- \", title_list[link], \" ---- \", links_list[title_list[link]])\n",
        "                # print(count)\n",
        "                # count+=1\n",
        "        except (IndexError, ValueError):\n",
        "            break\n",
        "\n",
        "\n",
        "# In[5]:\n",
        "\n",
        "\n",
        "def make_dir(path):\n",
        "    download_path = os.path.join(os.getcwd(), \"Markdown Output\\\\\", path)\n",
        "    os.makedirs(download_path, exist_ok=True)\n",
        "\n",
        "\n",
        "# In[6]:\n",
        "\n",
        "\n",
        "# Make Output Directories\n",
        "\n",
        "course = soup.title.text.split('|')[0].strip()\n",
        "\n",
        "for i in unit_index:\n",
        "    path = course + \"\\\\\" + title_list[i]\n",
        "    # print(path)\n",
        "    make_dir(path)\n",
        "    download_path = os.path.join(os.getcwd(), \"Markdown Output\\\\\", path)\n",
        "    print(download_path)\n",
        "\n",
        "\n",
        "# In[35]:\n",
        "\n",
        "\n",
        "import pyautogui, os, requests, re\n",
        "from msedge.selenium_tools import Edge, EdgeOptions, webdriver\n",
        "\n",
        "options = EdgeOptions()\n",
        "options.use_chromium = True\n",
        "unpacked_extension_path = os.path.join(os.getcwd(), \"markdown-clipper\")\n",
        "options.add_argument(\"--load-extension={}\".format(unpacked_extension_path))\n",
        "download_path = os.path.join(os.getcwd(), \"Markdown Output\\\\\")\n",
        "prefs = {\"download.default_directory\": download_path, \"profile.default_content_settings.popups\": 0, \"directory_upgrade\": True}\n",
        "options.add_experimental_option(\"prefs\", prefs)\n",
        "options.add_experimental_option(\"detach\", True)\n",
        "driver = Edge(options=options)\n",
        "\n",
        "url = \"https://networklessons.com/cisco/ccna-200-301\"\n",
        "driver.get(url)\n",
        "\n",
        "\n",
        "# In[43]:\n",
        "\n",
        "\n",
        "agree = driver.find_elements_by_xpath('//*[@id=\"catapult-cookie-bar\"]/div/div')\n",
        "join = driver.find_elements_by_xpath('//*[@id=\"om-mvhsujbebu4nqhlzcsgs-optin\"]/div/button')\n",
        "\n",
        "if agree:\n",
        "    agree[0].click()\n",
        "\n",
        "if join:\n",
        "    join[0].click()\n",
        "\n",
        "\n",
        "# In[ ]:\n",
        "\n",
        "\n",
        "\n",
        "\n"
      ],
      "outputs": [],
      "execution_count": null
    },
    {
      "cell_type": "code",
      "execution_count": 8,
      "metadata": {},
      "outputs": [],
      "source": [
        "import pyautogui, os, requests, re, random\n",
        "from seleniumwire import webdriver\n",
        "from seleniumwire.webdriver import request\n",
        "# from selenium import webdriver\n",
        "from selenium.webdriver import Chrome\n",
        "from time import sleep, time\n",
        "from itertools import cycle\n",
        "from bs4 import BeautifulSoup\n",
        "from http_request_randomizer.requests.proxy.requestProxy import RequestProxy\n",
        "from pprint import pprint\n",
        "from collections import OrderedDict\n",
        "from itertools import cycle"
      ]
    },
    {
      "cell_type": "code",
      "execution_count": 2,
      "metadata": {},
      "outputs": [],
      "source": [
        "url = \"https://networklessons.com/cisco/ccna-200-301\""
      ]
    },
    {
      "cell_type": "code",
      "execution_count": 3,
      "metadata": {
        "tags": []
      },
      "outputs": [
        {
          "output_type": "stream",
          "name": "stderr",
          "text": "2020-09-26 22:09:37,136 root   DEBUG    === Initialized Proxy Parsers ===\n2020-09-26 22:09:37,140 root   DEBUG    \t FreeProxy parser of 'http://free-proxy-list.net' with required bandwidth: '500' KBs\n2020-09-26 22:09:37,141 root   DEBUG    \t PremProxy parser of 'https://premproxy.com/list/' with required bandwidth: '500' KBs\n2020-09-26 22:09:37,142 root   DEBUG    =================================\n2020-09-26 22:09:39,062 root   DEBUG    Added 300 proxies from FreeProxy\n2020-09-26 22:09:41,969 http_request_randomizer.requests.parsers.PremProxyParser DEBUG    Pages: {'', '05.htm', '03.htm', '02.htm', '04.htm'}\n2020-09-26 22:09:43,474 http_request_randomizer.requests.parsers.js.UnPacker INFO     JS UnPacker init path: https://premproxy.com/js/7d0d3.js\n2020-09-26 22:09:44,370 http_request_randomizer.requests.parsers.js.UnPacker DEBUG    portmap: {'r5d95': '8080', 'r55ac': '32108', 'rfcfc': '48602', 'raa67': '999', 'rd2e8': '54697', 'r6ecb': '80', 'ra973': '3128', 'rb051': '34244', 'r77e0': '30000', 'r306e': '37738', 'rd8b6': '34235', 'r6657': '51915', 'r136c': '53281', 'rccf3': '84', 'r7e69': '32231', 'rf806': '57797', 'r56a4': '808', 'ra1fe': '8081', 'rc69e': '60731', 'r57ea': '57396', 'r9013': '33920', 'r46c1': '56891', 'r29c9': '51650', 'rf9fc': '3129', 'r8a44': '9999', 're6cf': '3000', 're089': '39746', 'r46fe': '40667', 'rdcdc': '41439', 'r5b10': '55443', 'r26d2': '59190', 'r8c4a': '43980', 'r1e1a': '43036', 'r9025': '38525', 're75c': '30083', 'r5599': '30067', 'r8c0a': '30303', 'rf56d': '3838', 'rbf80': '23844', 'r230a': '51489', 'r8997': '8380', 'rc746': '26394', 'rec93': '54621', 'rbd5a': '83', 'r97bb': '43188', 'r3cfe': '57406', 'r2e53': '60008', 'rce32': '9090', 'rceda': '31475', 're696': '41258', 'r4c0b': '39589', 'rbba3': '37717', 'r4b9d': '50101', 'r5118': '54312', 're6b7': '33741', 'r9f01': '30716', 'ra1bf': '1234', 'r5837': '8082', 'rfdee': '33486', 'r591a': '60792', 'r9d00': '48458', 'rd08e': '30677', 'rcd6b': '55472', 'r5424': '48515', 'r9fa9': '42580', 'r5d32': '45578', 'r93e0': '443', 'r764a': '8291', 'r4786': '43504', 'r297a': '54555', 're7e5': '23500', 'r928a': '50153', 'r6f1e': '44716', 'rafd9': '8888', 'radd8': '47548', 'ra215': '47744', 'ra3b1': '43895', 'r2948': '34927', 'ra3d2': '47029', 'r40b3': '8090', 'r66b4': '38615', 'redae': '50782', 'rd8dc': '41380', 'r84cc': '44380', 'r7235': '36739', 'r9a0c': '53480', 'rea0f': '52820', 'r3abe': '58198', 'ra82c': '36335', 'r4621': '1981', 'r8ceb': '42113', 'ra1e3': '43033', 'r319c': '8088', 'rf56c': '31583', 're48f': '48678', 'r04d0': '62694', 'r6e5e': '8000', 'r27f2': '47504'}\n2020-09-26 22:09:49,041 root   DEBUG    Added 295 proxies from PremProxy\n2020-09-26 22:09:49,041 root   DEBUG    Total proxies = 595\n2020-09-26 22:09:49,042 root   DEBUG    Filtered proxies = 595\n"
        }
      ],
      "source": [
        "def init_proxy():\n",
        "    req_proxy = RequestProxy()\n",
        "    proxies = req_proxy.get_proxy_list()\n",
        "    proxy_cycle = cycle(proxies)\n",
        "    return proxy_cycle\n",
        "\n",
        "proxy_cycle = init_proxy()"
      ]
    },
    {
      "cell_type": "code",
      "execution_count": 4,
      "metadata": {
        "tags": []
      },
      "outputs": [
        {
          "output_type": "stream",
          "name": "stdout",
          "text": "173.212.202.65:80\n"
        }
      ],
      "source": [
        "def use_1():\n",
        "    proxy = next(proxy_cycle)\n",
        "    print(proxy.get_address())\n",
        "\n",
        "use_1()"
      ]
    },
    {
      "cell_type": "code",
      "execution_count": 5,
      "metadata": {
        "tags": []
      },
      "outputs": [
        {
          "output_type": "stream",
          "name": "stdout",
          "text": "41.217.219.53:31398\n"
        }
      ],
      "source": [
        "def use_2():\n",
        "    proxy = next(proxy_cycle).get_address()\n",
        "    print(proxy)\n",
        "\n",
        "use_2()"
      ]
    },
    {
      "cell_type": "code",
      "execution_count": 23,
      "metadata": {
        "tags": []
      },
      "outputs": [
        {
          "output_type": "stream",
          "name": "stdout",
          "text": "104.244.99.186:80\n"
        }
      ],
      "source": [
        "proxy = next(proxy_cycle).get_address()\n",
        "print(proxy)"
      ]
    },
    {
      "cell_type": "code",
      "execution_count": null,
      "metadata": {},
      "outputs": [],
      "source": [
        "desired_capabilities = webdriver.DesiredCapabilities.CHROME.copy()\n",
        "desired_capabilities['proxy'] = {\n",
        "    \"httpProxy\": proxy,\n",
        "    \"ftpProxy\": proxy,\n",
        "    \"sslProxy\": proxy,\n",
        "    \"noProxy\": None,\n",
        "    \"proxyType\": \"MANUAL\",\n",
        "    \"class\": \"org.openqa.selenium.Proxy\",\n",
        "    \"autodetect\": False\n",
        "}"
      ]
    },
    {
      "cell_type": "code",
      "execution_count": 6,
      "metadata": {
        "tags": []
      },
      "outputs": [
        {
          "output_type": "stream",
          "name": "stdout",
          "text": "124.219.176.139:39589\nMessage: 'chromedriver' executable needs to be in PATH. Please see https://sites.google.com/a/chromium.org/chromedriver/home\n\n"
        },
        {
          "output_type": "error",
          "ename": "NameError",
          "evalue": "name 'driver' is not defined",
          "traceback": [
            "\u001b[1;31m---------------------------------------------------------------------------\u001b[0m",
            "\u001b[1;31mFileNotFoundError\u001b[0m                         Traceback (most recent call last)",
            "\u001b[1;32mD:\\Documents\\CCNA Irfaan\\Site Crawler\\.venv\\lib\\site-packages\\selenium\\webdriver\\common\\service.py\u001b[0m in \u001b[0;36mstart\u001b[1;34m(self)\u001b[0m\n\u001b[0;32m     71\u001b[0m             \u001b[0mcmd\u001b[0m\u001b[1;33m.\u001b[0m\u001b[0mextend\u001b[0m\u001b[1;33m(\u001b[0m\u001b[0mself\u001b[0m\u001b[1;33m.\u001b[0m\u001b[0mcommand_line_args\u001b[0m\u001b[1;33m(\u001b[0m\u001b[1;33m)\u001b[0m\u001b[1;33m)\u001b[0m\u001b[1;33m\u001b[0m\u001b[1;33m\u001b[0m\u001b[0m\n\u001b[1;32m---> 72\u001b[1;33m             self.process = subprocess.Popen(cmd, env=self.env,\n\u001b[0m\u001b[0;32m     73\u001b[0m                                             \u001b[0mclose_fds\u001b[0m\u001b[1;33m=\u001b[0m\u001b[0mplatform\u001b[0m\u001b[1;33m.\u001b[0m\u001b[0msystem\u001b[0m\u001b[1;33m(\u001b[0m\u001b[1;33m)\u001b[0m \u001b[1;33m!=\u001b[0m \u001b[1;34m'Windows'\u001b[0m\u001b[1;33m,\u001b[0m\u001b[1;33m\u001b[0m\u001b[1;33m\u001b[0m\u001b[0m\n",
            "\u001b[1;32md:\\program files\\python38\\lib\\subprocess.py\u001b[0m in \u001b[0;36m__init__\u001b[1;34m(self, args, bufsize, executable, stdin, stdout, stderr, preexec_fn, close_fds, shell, cwd, env, universal_newlines, startupinfo, creationflags, restore_signals, start_new_session, pass_fds, encoding, errors, text)\u001b[0m\n\u001b[0;32m    853\u001b[0m \u001b[1;33m\u001b[0m\u001b[0m\n\u001b[1;32m--> 854\u001b[1;33m             self._execute_child(args, executable, preexec_fn, close_fds,\n\u001b[0m\u001b[0;32m    855\u001b[0m                                 \u001b[0mpass_fds\u001b[0m\u001b[1;33m,\u001b[0m \u001b[0mcwd\u001b[0m\u001b[1;33m,\u001b[0m \u001b[0menv\u001b[0m\u001b[1;33m,\u001b[0m\u001b[1;33m\u001b[0m\u001b[1;33m\u001b[0m\u001b[0m\n",
            "\u001b[1;32md:\\program files\\python38\\lib\\subprocess.py\u001b[0m in \u001b[0;36m_execute_child\u001b[1;34m(self, args, executable, preexec_fn, close_fds, pass_fds, cwd, env, startupinfo, creationflags, shell, p2cread, p2cwrite, c2pread, c2pwrite, errread, errwrite, unused_restore_signals, unused_start_new_session)\u001b[0m\n\u001b[0;32m   1306\u001b[0m             \u001b[1;32mtry\u001b[0m\u001b[1;33m:\u001b[0m\u001b[1;33m\u001b[0m\u001b[1;33m\u001b[0m\u001b[0m\n\u001b[1;32m-> 1307\u001b[1;33m                 hp, ht, pid, tid = _winapi.CreateProcess(executable, args,\n\u001b[0m\u001b[0;32m   1308\u001b[0m                                          \u001b[1;31m# no special security\u001b[0m\u001b[1;33m\u001b[0m\u001b[1;33m\u001b[0m\u001b[1;33m\u001b[0m\u001b[0m\n",
            "\u001b[1;31mFileNotFoundError\u001b[0m: [WinError 2] The system cannot find the file specified",
            "\nDuring handling of the above exception, another exception occurred:\n",
            "\u001b[1;31mWebDriverException\u001b[0m                        Traceback (most recent call last)",
            "\u001b[1;32m<ipython-input-6-2b32054f139d>\u001b[0m in \u001b[0;36m<module>\u001b[1;34m\u001b[0m\n\u001b[0;32m     26\u001b[0m \u001b[1;33m\u001b[0m\u001b[0m\n\u001b[1;32m---> 27\u001b[1;33m         \u001b[0mdriver\u001b[0m \u001b[1;33m=\u001b[0m \u001b[0mChrome\u001b[0m\u001b[1;33m(\u001b[0m\u001b[0moptions\u001b[0m\u001b[1;33m=\u001b[0m\u001b[0moptions\u001b[0m\u001b[1;33m,\u001b[0m \u001b[0mdesired_capabilities\u001b[0m\u001b[1;33m=\u001b[0m\u001b[0mdesired_capabilities\u001b[0m\u001b[1;33m)\u001b[0m\u001b[1;33m\u001b[0m\u001b[1;33m\u001b[0m\u001b[0m\n\u001b[0m\u001b[0;32m     28\u001b[0m         \u001b[0mdriver\u001b[0m\u001b[1;33m.\u001b[0m\u001b[0mget\u001b[0m\u001b[1;33m(\u001b[0m\u001b[1;34m\"https://whatismyipaddress.com/\"\u001b[0m\u001b[1;33m)\u001b[0m\u001b[1;33m\u001b[0m\u001b[1;33m\u001b[0m\u001b[0m\n",
            "\u001b[1;32mD:\\Documents\\CCNA Irfaan\\Site Crawler\\.venv\\lib\\site-packages\\selenium\\webdriver\\chrome\\webdriver.py\u001b[0m in \u001b[0;36m__init__\u001b[1;34m(self, executable_path, port, options, service_args, desired_capabilities, service_log_path, chrome_options, keep_alive)\u001b[0m\n\u001b[0;32m     72\u001b[0m             log_path=service_log_path)\n\u001b[1;32m---> 73\u001b[1;33m         \u001b[0mself\u001b[0m\u001b[1;33m.\u001b[0m\u001b[0mservice\u001b[0m\u001b[1;33m.\u001b[0m\u001b[0mstart\u001b[0m\u001b[1;33m(\u001b[0m\u001b[1;33m)\u001b[0m\u001b[1;33m\u001b[0m\u001b[1;33m\u001b[0m\u001b[0m\n\u001b[0m\u001b[0;32m     74\u001b[0m \u001b[1;33m\u001b[0m\u001b[0m\n",
            "\u001b[1;32mD:\\Documents\\CCNA Irfaan\\Site Crawler\\.venv\\lib\\site-packages\\selenium\\webdriver\\common\\service.py\u001b[0m in \u001b[0;36mstart\u001b[1;34m(self)\u001b[0m\n\u001b[0;32m     80\u001b[0m             \u001b[1;32mif\u001b[0m \u001b[0merr\u001b[0m\u001b[1;33m.\u001b[0m\u001b[0merrno\u001b[0m \u001b[1;33m==\u001b[0m \u001b[0merrno\u001b[0m\u001b[1;33m.\u001b[0m\u001b[0mENOENT\u001b[0m\u001b[1;33m:\u001b[0m\u001b[1;33m\u001b[0m\u001b[1;33m\u001b[0m\u001b[0m\n\u001b[1;32m---> 81\u001b[1;33m                 raise WebDriverException(\n\u001b[0m\u001b[0;32m     82\u001b[0m                     \"'%s' executable needs to be in PATH. %s\" % (\n",
            "\u001b[1;31mWebDriverException\u001b[0m: Message: 'chromedriver' executable needs to be in PATH. Please see https://sites.google.com/a/chromium.org/chromedriver/home\n",
            "\nDuring handling of the above exception, another exception occurred:\n",
            "\u001b[1;31mNameError\u001b[0m                                 Traceback (most recent call last)",
            "\u001b[1;32m<ipython-input-6-2b32054f139d>\u001b[0m in \u001b[0;36m<module>\u001b[1;34m\u001b[0m\n\u001b[0;32m     41\u001b[0m     \u001b[1;32mexcept\u001b[0m \u001b[1;33m(\u001b[0m\u001b[0mException\u001b[0m\u001b[1;33m,\u001b[0m \u001b[0mKeyboardInterrupt\u001b[0m\u001b[1;33m)\u001b[0m \u001b[1;32mas\u001b[0m \u001b[0mex\u001b[0m\u001b[1;33m:\u001b[0m\u001b[1;33m\u001b[0m\u001b[1;33m\u001b[0m\u001b[0m\n\u001b[0;32m     42\u001b[0m         \u001b[0mprint\u001b[0m\u001b[1;33m(\u001b[0m\u001b[0mex\u001b[0m\u001b[1;33m)\u001b[0m\u001b[1;33m\u001b[0m\u001b[1;33m\u001b[0m\u001b[0m\n\u001b[1;32m---> 43\u001b[1;33m         \u001b[0mdriver\u001b[0m\u001b[1;33m.\u001b[0m\u001b[0mquit\u001b[0m\u001b[1;33m(\u001b[0m\u001b[1;33m)\u001b[0m\u001b[1;33m\u001b[0m\u001b[1;33m\u001b[0m\u001b[0m\n\u001b[0m\u001b[0;32m     44\u001b[0m         \u001b[0msys\u001b[0m\u001b[1;33m.\u001b[0m\u001b[0mexit\u001b[0m\u001b[1;33m(\u001b[0m\u001b[1;33m)\u001b[0m\u001b[1;33m\u001b[0m\u001b[1;33m\u001b[0m\u001b[0m\n",
            "\u001b[1;31mNameError\u001b[0m: name 'driver' is not defined"
          ]
        }
      ],
      "source": [
        "options = webdriver.ChromeOptions()\n",
        "unpacked_extension_path = os.path.join(os.getcwd(), \"markdown-clipper\")\n",
        "options.add_argument(\"--load-extension={}\".format(unpacked_extension_path))\n",
        "options.add_experimental_option(\"excludeSwitches\", [\"enable-automation\"])\n",
        "download_path = os.path.join(os.getcwd(), \"Markdown Output\\\\\")\n",
        "prefs = {\"download.default_directory\": download_path, \"profile.default_content_settings.popups\": 0, \"directory_upgrade\": True}\n",
        "options.add_experimental_option(\"prefs\", prefs)\n",
        "\n",
        "bad_proxy = True\n",
        "\n",
        "while (bad_proxy):\n",
        "    try:\n",
        "        proxy = next(proxy_cycle).get_address()\n",
        "        print(proxy)\n",
        "\n",
        "        desired_capabilities = webdriver.DesiredCapabilities.CHROME.copy()\n",
        "        desired_capabilities['proxy'] = {\n",
        "            \"httpProxy\": proxy,\n",
        "            \"ftpProxy\": proxy,\n",
        "            \"sslProxy\": proxy,\n",
        "            \"noProxy\": None,\n",
        "            \"proxyType\": \"MANUAL\",\n",
        "            \"class\": \"org.openqa.selenium.Proxy\",\n",
        "            \"autodetect\": False\n",
        "        }\n",
        "\n",
        "        driver = Chrome(options=options, desired_capabilities=desired_capabilities)\n",
        "        driver.get(\"https://whatismyipaddress.com/\")\n",
        "\n",
        "        # Access requests via the `requests` attribute\n",
        "        for request in driver.requests:\n",
        "            if request.response:\n",
        "                print(\n",
        "                    request.url,\n",
        "                    request.response.status_code,\n",
        "                    request.response.headers['Content-Type']\n",
        "                )\n",
        "        # sleep(10)\n",
        "        bad_proxy = False\n",
        "        driver.quit()\n",
        "    except (Exception, KeyboardInterrupt) as ex:\n",
        "        print(ex)\n",
        "        driver.quit()\n",
        "        sys.exit()\n"
      ]
    },
    {
      "source": [
        "agree = driver.find_elements_by_xpath('//*[@id=\"catapult-cookie-bar\"]/div/div')\n",
        "# //*[@id=\"om-dszmjlrr62oycr2tcw9j-optin\"]/div/button\n",
        "# /html/body/div[9]/div/div/button\n",
        "join = driver.find_elements_by_xpath('/html/body/div[9]/div/div/button')\n",
        "\n",
        "if agree:\n",
        "    try:\n",
        "        agree[0].click()\n",
        "    except Exception:\n",
        "        pass\n",
        "\n",
        "if join:\n",
        "    try:\n",
        "        join[0].click()\n",
        "    except Exception:\n",
        "        pass"
      ],
      "cell_type": "code",
      "metadata": {},
      "execution_count": null,
      "outputs": []
    },
    {
      "cell_type": "code",
      "execution_count": 6,
      "metadata": {
        "tags": []
      },
      "outputs": [
        {
          "output_type": "stream",
          "name": "stdout",
          "text": "['37.255.134.90', '53281']\n"
        }
      ],
      "source": [
        "proxy = next(proxy_cycle).get_address().split(':')\n",
        "print(proxy)"
      ]
    },
    {
      "cell_type": "code",
      "execution_count": null,
      "metadata": {},
      "outputs": [],
      "source": []
    }
  ],
  "metadata": {
    "anaconda-cloud": {},
    "kernelspec": {
      "name": "Python 3.8.2 64-bit ('Site Crawler': pipenv)",
      "display_name": "Python 3.8.2 64-bit ('Site Crawler': pipenv)",
      "metadata": {
        "interpreter": {
          "hash": "0ee02901d78a0b5d90a9d936cdb636b4ac7807022fd5560181a86e1ae7c42868"
        }
      }
    },
    "language_info": {
      "codemirror_mode": {
        "name": "ipython",
        "version": 3
      },
      "file_extension": ".py",
      "mimetype": "text/x-python",
      "name": "python",
      "nbconvert_exporter": "python",
      "pygments_lexer": "ipython3",
      "version": "3.8.2-final"
    }
  },
  "nbformat": 4,
  "nbformat_minor": 4
}